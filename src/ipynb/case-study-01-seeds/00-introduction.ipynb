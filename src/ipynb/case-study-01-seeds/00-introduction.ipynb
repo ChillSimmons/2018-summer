{
 "cells": [
  {
   "cell_type": "markdown",
   "metadata": {},
   "source": [
    "# Case Study - The Seeds Data Set"
   ]
  },
  {
   "cell_type": "markdown",
   "metadata": {},
   "source": [
    "## Introduction"
   ]
  },
  {
   "cell_type": "markdown",
   "metadata": {},
   "source": [
    "This will be a study of the Seeds data set available through the UCI Machine Learning Repository (https://archive.ics.uci.edu/ml/index.php). Additional information on this data set and is available here: https://archive.ics.uci.edu/ml/datasets/seeds. The data set is very similar to Fisher's Iris data set. We use it here as an alternative to Iris; a simple and straightforward data set that is useful for introducing the main concepts of statistical learning and data science, especially Supervised and Unsupervised Learning and Classficication, Regression, and Clustering, \n",
    "\n",
    "The data collected here is measurements of geometrical properties of kernels belonging to three different varieties of wheat. A soft X-ray technique and GRAINS package were used to construct all seven, real-valued attributes. The target (or labels or dependent variable) fall into one of three classes just as in the Iris data set. The $n$, the number of observations (or points or rows), in the data set is very small. Iris contains 150 rows, whereas Seeds contains 210. The $p$, the number of salient features (or indepndent variables or columns) is a bit larger than in Iris. Iris has four features, whereas Seeds has seven. In both data sets, all of the features are numerical and continuous."
   ]
  },
  {
   "cell_type": "markdown",
   "metadata": {},
   "source": [
    "### Structure of the Case Study\n",
    "\n",
    "1. Load and Verify the Data\n",
    "2. Exploratory Data Analysis\n",
    "3. Develop a Predictive Model\n",
    "\n",
    "### Programming Methods\n",
    "\n",
    "study will include notes on programming methods used"
   ]
  },
  {
   "cell_type": "code",
   "execution_count": null,
   "metadata": {},
   "outputs": [],
   "source": []
  }
 ],
 "metadata": {
  "kernelspec": {
   "display_name": "Python 3",
   "language": "python",
   "name": "python3"
  },
  "language_info": {
   "codemirror_mode": {
    "name": "ipython",
    "version": 3
   },
   "file_extension": ".py",
   "mimetype": "text/x-python",
   "name": "python",
   "nbconvert_exporter": "python",
   "pygments_lexer": "ipython3",
   "version": "3.6.5"
  }
 },
 "nbformat": 4,
 "nbformat_minor": 2
}
